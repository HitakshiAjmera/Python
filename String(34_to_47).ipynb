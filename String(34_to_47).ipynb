{
  "nbformat": 4,
  "nbformat_minor": 0,
  "metadata": {
    "colab": {
      "name": "String(34 to 47).ipynb",
      "provenance": []
    },
    "kernelspec": {
      "name": "python3",
      "display_name": "Python 3"
    },
    "language_info": {
      "name": "python"
    }
  },
  "cells": [
    {
      "cell_type": "markdown",
      "metadata": {
        "id": "SozpcnTBt4_p"
      },
      "source": [
        "34. Write a Python program to calculate the length of a given string."
      ]
    },
    {
      "cell_type": "code",
      "metadata": {
        "colab": {
          "base_uri": "https://localhost:8080/"
        },
        "id": "GyftOxW1tXm3",
        "outputId": "ad6ef171-5ca8-4be0-b5ed-00e708e12b9e"
      },
      "source": [
        "string = input(\"Enter any string: \")\n",
        "print(\"Length of string is \",len(string))"
      ],
      "execution_count": 1,
      "outputs": [
        {
          "output_type": "stream",
          "name": "stdout",
          "text": [
            "Enter any string: Hitakshi Ajmera\n",
            "Length of string is  15\n"
          ]
        }
      ]
    },
    {
      "cell_type": "markdown",
      "metadata": {
        "id": "NC5h1Pyxvd5h"
      },
      "source": [
        "35. Write a Python program to get a single string from two given strings, separated by a space and swap the first characters of each string.\n",
        " Sample String : 'abc', 'xyz' \n",
        " Expected Result : 'xbc ayz'"
      ]
    },
    {
      "cell_type": "code",
      "metadata": {
        "colab": {
          "base_uri": "https://localhost:8080/"
        },
        "id": "_uPurn97vibc",
        "outputId": "d8c3f8e7-f8b7-45d6-caa5-de171fc6b613"
      },
      "source": [
        "s1 = input(\"Enter string 1 :\")\n",
        "s2 = input(\"Enter string 2 :\") \n",
        "n1 = s2[0] + s1[1: ]\n",
        "n2 = s1[0] + s2[1: ]\n",
        "print(n1 + \" \" + n2)"
      ],
      "execution_count": 2,
      "outputs": [
        {
          "output_type": "stream",
          "name": "stdout",
          "text": [
            "Enter string 1 :abc\n",
            "Enter string 2 :xyz\n",
            "xbc ayz\n"
          ]
        }
      ]
    },
    {
      "cell_type": "markdown",
      "metadata": {
        "id": "8xytLtR2wav4"
      },
      "source": [
        "36. Write a Python program to add 'polis' at the end of a given string (length should be at least 3).\n",
        "  If the given string already ends with 'polis' then add 'polisCS' instead.\n",
        "  If the string length of the given string is less than 3, leave it unchanged. \n",
        " Sample String : 'abc'\n",
        " Expected Result : 'abcpolisCS' \n",
        " Sample String : 'Acropolis'\n",
        " Expected Result : 'AcropolisCS'"
      ]
    },
    {
      "cell_type": "code",
      "metadata": {
        "colab": {
          "base_uri": "https://localhost:8080/"
        },
        "id": "-qjNTWkswfcp",
        "outputId": "69f8a558-95c6-4f6a-b1c5-9a5d64ecfbca"
      },
      "source": [
        "string = input(\"Enter a string : \")\n",
        "\n",
        "if len(string)<3:\n",
        "    print(string)\n",
        "elif string[-5:]=='polis':\n",
        "    print(string+'CS')\n",
        "else:\n",
        "    print(string+'polis')\n"
      ],
      "execution_count": 3,
      "outputs": [
        {
          "output_type": "stream",
          "name": "stdout",
          "text": [
            "Enter a string : Acropolis\n",
            "AcropolisCS\n"
          ]
        }
      ]
    },
    {
      "cell_type": "markdown",
      "metadata": {
        "id": "lmE1bP0Hxy9O"
      },
      "source": [
        "37. Write a Python program to count the number of characters (character frequency) in a string. \n",
        " Sample String : google.com'\n",
        " Expected Result : {'o': 3, 'g': 2, '.': 1, 'e': 1, 'l': 1, 'm': 1, 'c': 1}"
      ]
    },
    {
      "cell_type": "code",
      "metadata": {
        "colab": {
          "base_uri": "https://localhost:8080/"
        },
        "id": "grfuVH8Vx3Eb",
        "outputId": "90db161d-4709-4411-b4db-d96004b81453"
      },
      "source": [
        "string = input(\"Enter a string :\")\n",
        "freq = {}\n",
        "for i in string:\n",
        "    if i in freq:\n",
        "       freq[i]+= 1\n",
        "    else:\n",
        "        freq[i] = 1\n",
        "\n",
        "print(str(freq))            \n"
      ],
      "execution_count": 6,
      "outputs": [
        {
          "output_type": "stream",
          "name": "stdout",
          "text": [
            "Enter a string :hitakshi ajmera\n",
            "{'h': 2, 'i': 2, 't': 1, 'a': 3, 'k': 1, 's': 1, ' ': 1, 'j': 1, 'm': 1, 'e': 1, 'r': 1}\n"
          ]
        }
      ]
    },
    {
      "cell_type": "markdown",
      "metadata": {
        "id": "I7AtWbNszpbj"
      },
      "source": [
        "38. Write a Python program to change a given string to a new string where the second and last chars have been exchanged."
      ]
    },
    {
      "cell_type": "code",
      "metadata": {
        "colab": {
          "base_uri": "https://localhost:8080/"
        },
        "id": "72q2JH6xzwEO",
        "outputId": "ee5a1cf9-11cd-49d0-c537-5e8c67396c5c"
      },
      "source": [
        "string = input(\"Enter a string: \")\n",
        "s = string[1]\n",
        "l = string[-1]\n",
        "new = string[0]+string[-1]+string[2:-1]+string[1]\n",
        "print(new)"
      ],
      "execution_count": 11,
      "outputs": [
        {
          "output_type": "stream",
          "name": "stdout",
          "text": [
            "Enter a string: ajmera\n",
            "aamerj\n"
          ]
        }
      ]
    },
    {
      "cell_type": "markdown",
      "metadata": {
        "id": "jrJrOhBs1-8-"
      },
      "source": [
        "39. Write a Python program to remove the characters which have even index values of a given string."
      ]
    },
    {
      "cell_type": "code",
      "metadata": {
        "colab": {
          "base_uri": "https://localhost:8080/"
        },
        "id": "WuIinnhV2EDx",
        "outputId": "869a74a0-fb63-40a4-d805-8c76a112fd9a"
      },
      "source": [
        "string = input(\"Enter a string: \")\n",
        "new = ''\n",
        "for i in range(len(string)):\n",
        "    if i%2==0:\n",
        "        new = new + string[i]\n",
        "        \n",
        "print(new)        "
      ],
      "execution_count": 12,
      "outputs": [
        {
          "output_type": "stream",
          "name": "stdout",
          "text": [
            "Enter a string: Hitakshi\n",
            "Htkh\n"
          ]
        }
      ]
    },
    {
      "cell_type": "markdown",
      "metadata": {
        "id": "ZMWgMJFe2-TS"
      },
      "source": [
        "40. Write a Python program that takes input from the user and displays that input back in upper and lower cases."
      ]
    },
    {
      "cell_type": "code",
      "metadata": {
        "colab": {
          "base_uri": "https://localhost:8080/"
        },
        "id": "iuZiaHnJ3CwZ",
        "outputId": "0b2645f8-9f4b-4b59-85f6-3f95fb771ab2"
      },
      "source": [
        "string = input(\"Enter a string: \")\n",
        "print(string.lower())\n",
        "print(string.upper())"
      ],
      "execution_count": 13,
      "outputs": [
        {
          "output_type": "stream",
          "name": "stdout",
          "text": [
            "Enter a string: Hitakshi Ajmera\n",
            "hitakshi ajmera\n",
            "HITAKSHI AJMERA\n"
          ]
        }
      ]
    },
    {
      "cell_type": "markdown",
      "metadata": {
        "id": "5PU-XalQ483C"
      },
      "source": [
        "41. Write a Python program to count occurrences of a substring in a string."
      ]
    },
    {
      "cell_type": "code",
      "metadata": {
        "colab": {
          "base_uri": "https://localhost:8080/"
        },
        "id": "Ad2ghlW-5UT2",
        "outputId": "d1c27637-f3ae-400c-9357-313c214a69c8"
      },
      "source": [
        "str1 = 'I slept and I dreamed that life is all joy. I woke and I saw that life is all service. I served and I saw that service is joy.'\n",
        "print(str1.count(\"life\"))\n",
        "print()"
      ],
      "execution_count": 14,
      "outputs": [
        {
          "output_type": "stream",
          "name": "stdout",
          "text": [
            "2\n",
            "\n"
          ]
        }
      ]
    },
    {
      "cell_type": "markdown",
      "metadata": {
        "id": "FfqjiJ-n56SQ"
      },
      "source": [
        "42. Write a Python program to lowercase first n characters in a string."
      ]
    },
    {
      "cell_type": "code",
      "metadata": {
        "colab": {
          "base_uri": "https://localhost:8080/"
        },
        "id": "tIvlt3jT6Dpt",
        "outputId": "44e9e498-7fdb-42e2-d1e6-f04006b6fbe1"
      },
      "source": [
        "str1 = 'HITAKSHI AJMERA'\n",
        "print(str1[:4].lower() + str1[4:])"
      ],
      "execution_count": 15,
      "outputs": [
        {
          "output_type": "stream",
          "name": "stdout",
          "text": [
            "hitaKSHI AJMERA\n"
          ]
        }
      ]
    },
    {
      "cell_type": "markdown",
      "metadata": {
        "id": "37Sui7Wk6Yu5"
      },
      "source": [
        "43. Write a Python program to remove spaces from a given string."
      ]
    },
    {
      "cell_type": "code",
      "metadata": {
        "colab": {
          "base_uri": "https://localhost:8080/"
        },
        "id": "yvCPQAH_6tZX",
        "outputId": "4efeb01c-36f5-471b-b82d-f84195b40d72"
      },
      "source": [
        "string = input(\"Enter any string: \")\n",
        "print(string.replace(' ',''))"
      ],
      "execution_count": 17,
      "outputs": [
        {
          "output_type": "stream",
          "name": "stdout",
          "text": [
            "Enter any string: Hi tak s h i \n",
            "Hitakshi\n"
          ]
        }
      ]
    },
    {
      "cell_type": "markdown",
      "metadata": {
        "id": "_ebiBkm8BQk3"
      },
      "source": [
        "44. Write a Python program to move spaces to the front of a given string."
      ]
    },
    {
      "cell_type": "code",
      "metadata": {
        "colab": {
          "base_uri": "https://localhost:8080/"
        },
        "id": "l6bRtF_CBSbf",
        "outputId": "fd1de9d9-e46b-402b-9a32-55039e046d07"
      },
      "source": [
        "def move_Spaces_front(str1):\n",
        "  noSpaces_char = [ch for ch in str1 if ch!=' ']\n",
        "  spaces_char = len(str1) - len(noSpaces_char)\n",
        "  result = ' '*spaces_char\n",
        "  result = '\"'+result + ''.join(noSpaces_char)+'\"'\n",
        "  return(result)\n",
        "\n",
        "print(move_Spaces_front(\"astonishing .  world  \"))"
      ],
      "execution_count": 32,
      "outputs": [
        {
          "output_type": "stream",
          "name": "stdout",
          "text": [
            "\"     astonishing.world\"\n"
          ]
        }
      ]
    },
    {
      "cell_type": "markdown",
      "metadata": {
        "id": "VNzawbFF9K8-"
      },
      "source": [
        "45. Write a Python program to find the maximum occurring character in a given string."
      ]
    },
    {
      "cell_type": "code",
      "metadata": {
        "colab": {
          "base_uri": "https://localhost:8080/"
        },
        "id": "RicfB51E9zim",
        "outputId": "88dcaeda-42c0-4c72-c597-0669313da23e"
      },
      "source": [
        "string = input(\"Enter a string :\")\n",
        "freq = {}\n",
        "for i in string:\n",
        "    if i in freq:\n",
        "       freq[i]+= 1\n",
        "    else:\n",
        "        freq[i] = 1\n",
        "print(\"The maximum occurring character in a given string is '\",max(freq, key = freq.get ),\"'\")            \n"
      ],
      "execution_count": 25,
      "outputs": [
        {
          "output_type": "stream",
          "name": "stdout",
          "text": [
            "Enter a string :hitakshi ajmera\n",
            "The maximum occurring character in a given string is ' a '\n"
          ]
        }
      ]
    },
    {
      "cell_type": "markdown",
      "metadata": {
        "id": "Yzj7pqDWBBoc"
      },
      "source": [
        "46. Write a Python program to capitalize first and last letters of each word of a given string."
      ]
    },
    {
      "cell_type": "code",
      "metadata": {
        "colab": {
          "base_uri": "https://localhost:8080/"
        },
        "id": "6LvvWJ5RPH9q",
        "outputId": "46d8e37b-b620-4842-cf7c-4134b37b1989"
      },
      "source": [
        "string = input(\"Enter a string : \")\n",
        "new = string[0].upper()+string[1:-1]+string[-1].upper()\n",
        "print(new)"
      ],
      "execution_count": 27,
      "outputs": [
        {
          "output_type": "stream",
          "name": "stdout",
          "text": [
            "Enter a string : hello\n",
            "HellO\n"
          ]
        }
      ]
    },
    {
      "cell_type": "markdown",
      "metadata": {
        "id": "DJcOKL4-QSRU"
      },
      "source": [
        "47. Write a Python program to compute sum of digits of a given string."
      ]
    },
    {
      "cell_type": "code",
      "metadata": {
        "colab": {
          "base_uri": "https://localhost:8080/"
        },
        "id": "YCdvfWZmQtSx",
        "outputId": "b5cdec12-7f91-48db-d7bd-8181caad5a84"
      },
      "source": [
        "string = input(\"Enter a string : \")\n",
        "sum = 0\n",
        "for i in string:\n",
        "  sum += int(i)\n",
        "    \n",
        "print(\"Sum of digit is \",sum)    "
      ],
      "execution_count": 30,
      "outputs": [
        {
          "output_type": "stream",
          "name": "stdout",
          "text": [
            "Enter a string : 12345678\n",
            "Sum of digit is  36\n"
          ]
        }
      ]
    }
  ]
}