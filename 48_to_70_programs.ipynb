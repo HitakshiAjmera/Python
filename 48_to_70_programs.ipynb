{
  "nbformat": 4,
  "nbformat_minor": 0,
  "metadata": {
    "colab": {
      "name": "48_to_70_program.ipynb",
      "provenance": []
    },
    "kernelspec": {
      "name": "python3",
      "display_name": "Python 3"
    },
    "language_info": {
      "name": "python"
    }
  },
  "cells": [
    {
      "cell_type": "code",
      "metadata": {
        "colab": {
          "base_uri": "https://localhost:8080/"
        },
        "id": "XMLBUlQaNBpG",
        "outputId": "ecd44327-6585-4b2d-f741-8bed9cf21bab"
      },
      "source": [
        "#48)Write a Python function that takes a list of words and returns the length of the longest one.\n",
        "def find_longest_word(words_list):\n",
        "    word_len = []\n",
        "    for n in words_list:\n",
        "        word_len.append((len(n), n))\n",
        "    word_len.sort()\n",
        "    return word_len[-1][0], word_len[-1][1]\n",
        "result = find_longest_word([\"CS\", \"ACROPOLIS\", \"CSIT\"])\n",
        "print(\"\\nLongest word: \",result[1])\n",
        "print(\"Length of the longest word: \",result[0])"
      ],
      "execution_count": 1,
      "outputs": [
        {
          "output_type": "stream",
          "name": "stdout",
          "text": [
            "\n",
            "Longest word:  ACROPOLIS\n",
            "Length of the longest word:  9\n"
          ]
        }
      ]
    },
    {
      "cell_type": "code",
      "metadata": {
        "colab": {
          "base_uri": "https://localhost:8080/"
        },
        "id": "sJ09_dAGNLG9",
        "outputId": "74b0b34b-118b-4a65-93d5-9cb588a9a46b"
      },
      "source": [
        "#49.Write a function x(n) for computing an element in the sequence xn=n^2+1. Call the function for n=4 and write out the result.\n",
        "\n",
        "def x(n):\n",
        "  return(n**2 + 1)\n",
        "\n",
        "print(x(4))"
      ],
      "execution_count": 2,
      "outputs": [
        {
          "output_type": "stream",
          "name": "stdout",
          "text": [
            "17\n"
          ]
        }
      ]
    },
    {
      "cell_type": "code",
      "metadata": {
        "colab": {
          "base_uri": "https://localhost:8080/"
        },
        "id": "3nIeeNxrNOyH",
        "outputId": "1206652e-aef4-4f21-a27d-2e2a63e17033"
      },
      "source": [
        "#50. Take the following Python code that stores a string: ‘str = 'Y-tatata-acropolis: 0.8475'. Use find and string slicing to extract the portion \n",
        "#of the string after the colon character and then use the float function to convert the extracted string into a floating point number.\n",
        "\n",
        "string = 'Y-tatata-acropolis: 0.8475'\n",
        "col_pos = string.find(':')                  # Finds the colon character\n",
        "number = string[col_pos + 1:]                 # Extracts portion after colon\n",
        "confidence = float(number)                  # Converts to floating point number\n",
        "print(confidence)"
      ],
      "execution_count": 3,
      "outputs": [
        {
          "output_type": "stream",
          "name": "stdout",
          "text": [
            "0.8475\n"
          ]
        }
      ]
    },
    {
      "cell_type": "code",
      "metadata": {
        "colab": {
          "base_uri": "https://localhost:8080/"
        },
        "id": "OEryaZaMNSpH",
        "outputId": "f99a0351-d82f-4d23-8e8f-492e8056fd08"
      },
      "source": [
        "#51. Write a function that returns the middle value among three integers. (Hint: make use of min() and max()). Write code to test this function with different inputs.\n",
        "\n",
        "def middleOfThree(a, b, c) :\n",
        "\tif a > b :\n",
        "\t\tif (b > c):\n",
        "\t\t\treturn b\n",
        "\t\telif (a > c) :\n",
        "\t\t\treturn c\n",
        "\t\telse :\n",
        "\t\t\treturn a\n",
        "\telse:\n",
        "\t\tif (a > c) :\n",
        "\t\t\treturn a\n",
        "\t\telif (b > c) :\n",
        "\t\t\treturn c\n",
        "\t\telse :\n",
        "\t\t\treturn b\n",
        "\n",
        "a = 20\n",
        "b = 45\n",
        "c = 40\n",
        "print( middleOfThree(a, b, c) )"
      ],
      "execution_count": 4,
      "outputs": [
        {
          "output_type": "stream",
          "name": "stdout",
          "text": [
            "40\n"
          ]
        }
      ]
    },
    {
      "cell_type": "code",
      "metadata": {
        "colab": {
          "base_uri": "https://localhost:8080/"
        },
        "id": "libn27TFNWSi",
        "outputId": "3803296a-e216-4e4e-9b66-cbec2f2ae990"
      },
      "source": [
        "#52.Write a function that computes the area of a rectangle. Then, write a second function that calls this function three times to compute the surface area of a rectangular solid.\n",
        "def secondfun():\n",
        "  for i in range(3):\n",
        "    print(area(i+1,i+3))\n",
        "\n",
        "def area(h,w):\n",
        "  area=h*w\n",
        "  return area\n",
        "height=2\n",
        "width=3\n",
        "print(area(height,width))\n",
        "\n",
        "secondfun()"
      ],
      "execution_count": 5,
      "outputs": [
        {
          "output_type": "stream",
          "name": "stdout",
          "text": [
            "6\n",
            "3\n",
            "8\n",
            "15\n"
          ]
        }
      ]
    },
    {
      "cell_type": "code",
      "metadata": {
        "colab": {
          "base_uri": "https://localhost:8080/"
        },
        "id": "OYx1ujheNcT7",
        "outputId": "1d4c890f-2cf5-4fb3-cfb8-d7d219c3ccaa"
      },
      "source": [
        "#53.Create an outer function that will accept three parameters, a, b and c. Create an inner function inside an outer function that will calculate the\n",
        "#addition of a, b and c. At last, an outer function will add 5 into addition and return it \n",
        "def num1(x,y,z):\n",
        "  def num2(a,b,c):\n",
        "    return a+b+c\n",
        "  outer=num2(x,y,z)+5\n",
        "  return outer\n",
        "\n",
        "print(num1(5,4,5))"
      ],
      "execution_count": 6,
      "outputs": [
        {
          "output_type": "stream",
          "name": "stdout",
          "text": [
            "19\n"
          ]
        }
      ]
    },
    {
      "cell_type": "code",
      "metadata": {
        "colab": {
          "base_uri": "https://localhost:8080/"
        },
        "id": "AWTP7H76Nf8o",
        "outputId": "0daf0819-822b-48f5-8304-ab2a380a73ab"
      },
      "source": [
        "#54.Write a program to create a recursive function to calculate the product of numbers from 10 to 100.\n",
        "\n",
        "def recur(n):\n",
        "   if n == 10:\n",
        "       return n\n",
        "   else:\n",
        "       return n*recur(n-1)\n",
        "\n",
        "print(\"the product of numbers from 10 to 100 : \" \"is\", recur(100))"
      ],
      "execution_count": 8,
      "outputs": [
        {
          "output_type": "stream",
          "name": "stdout",
          "text": [
            "the product of numbers from 10 to 100 : is 257182031095525112107857249934597388918419224714455526533820998388496472644482792132224051962512451185663850090463028434334174412800000000000000000000000\n"
          ]
        }
      ]
    },
    {
      "cell_type": "code",
      "metadata": {
        "colab": {
          "base_uri": "https://localhost:8080/"
        },
        "id": "PHEJ88JDNl0w",
        "outputId": "0454001b-2f1c-4454-dbfc-f1f095c4bb9a"
      },
      "source": [
        "#55.Write a Python function to calculate the factorial of a number (a non-negative integer). The function accepts the number as an argument.\n",
        "def factorial(n):\n",
        "    if n == 0:\n",
        "        return 1\n",
        "    else:\n",
        "        return n * factorial(n-1)\n",
        "n=int(input(\"Input a number : \"))\n",
        "print(factorial(n))"
      ],
      "execution_count": 9,
      "outputs": [
        {
          "output_type": "stream",
          "name": "stdout",
          "text": [
            "Input a number : 6\n",
            "720\n"
          ]
        }
      ]
    },
    {
      "cell_type": "code",
      "metadata": {
        "colab": {
          "base_uri": "https://localhost:8080/"
        },
        "id": "yg9S2ydeNuCA",
        "outputId": "ab457665-53f6-4b56-c0a2-8dcd19960bf1"
      },
      "source": [
        "#56.Write a Python function to display all the multiples of  7 & 9 within the range 100 to 500.\n",
        "nl=[]\n",
        "for x in range(100, 501):\n",
        "    if (x%7==0) and (x%9==0):\n",
        "        nl.append(str(x))\n",
        "print (','.join(nl))"
      ],
      "execution_count": 10,
      "outputs": [
        {
          "output_type": "stream",
          "name": "stdout",
          "text": [
            "126,189,252,315,378,441\n"
          ]
        }
      ]
    },
    {
      "cell_type": "code",
      "metadata": {
        "colab": {
          "base_uri": "https://localhost:8080/"
        },
        "id": "WRezbYxzNw6u",
        "outputId": "86b2c8a7-ca2e-48c0-a5e9-2ddaf5752a22"
      },
      "source": [
        "#57.Write a Python function  to check whether the given integer is a prime number or not.\n",
        "num = 27\n",
        "flag = False\n",
        "def prime(n):\n",
        "  flag1=False\n",
        "  if n > 1:\n",
        "    for i in range(2, n):\n",
        "        if (n % i) == 0:\n",
        "            flag1 = True\n",
        "            break\n",
        "  return flag1\n",
        "\n",
        "flag=prime(num)\n",
        "if flag:\n",
        "    print(num, \"is not a prime number\")\n",
        "else:\n",
        "    print(num, \"is a prime number\")"
      ],
      "execution_count": 11,
      "outputs": [
        {
          "output_type": "stream",
          "name": "stdout",
          "text": [
            "27 is not a prime number\n"
          ]
        }
      ]
    },
    {
      "cell_type": "code",
      "metadata": {
        "colab": {
          "base_uri": "https://localhost:8080/"
        },
        "id": "_FHZiMzSN2OJ",
        "outputId": "9e064fa2-9303-4404-bbc9-420d5c3d3569"
      },
      "source": [
        "#58. Write a Python function that checks whether a passed interger is armstrong or not.\n",
        "\n",
        "n = int(input(\"Enter a number: \"))\n",
        "\n",
        "def armstrong(num):\n",
        "  sum = 0\n",
        "  temp = num\n",
        "  while temp > 0:\n",
        "    digit = temp % 10\n",
        "    sum += digit ** 3\n",
        "    temp //= 10\n",
        "  return sum\n",
        "\n",
        "summ=armstrong(n)\n",
        "if n == summ:\n",
        "   print(n,\"is an Armstrong number\")\n",
        "else:\n",
        "   print(n,\"is not an Armstrong number\")\n"
      ],
      "execution_count": 12,
      "outputs": [
        {
          "output_type": "stream",
          "name": "stdout",
          "text": [
            "Enter a number: 506\n",
            "506 is not an Armstrong number\n"
          ]
        }
      ]
    },
    {
      "cell_type": "code",
      "metadata": {
        "colab": {
          "base_uri": "https://localhost:8080/"
        },
        "id": "q-sa07HzN2ZH",
        "outputId": "3b2dd581-084c-4b69-de18-28b2f2b69f0e"
      },
      "source": [
        "#59. Program to return a function from another function.\n",
        "\n",
        "def B():\n",
        "\tprint(\"Inside the method B.\")\n",
        "\t\n",
        "def A():\n",
        "\tprint(\"Inside the method A.\")\n",
        "\treturn B\n",
        "\n",
        "returned_function = A()\n",
        "\n",
        "returned_function()"
      ],
      "execution_count": 13,
      "outputs": [
        {
          "output_type": "stream",
          "name": "stdout",
          "text": [
            "Inside the method A.\n",
            "Inside the method B.\n"
          ]
        }
      ]
    },
    {
      "cell_type": "code",
      "metadata": {
        "colab": {
          "base_uri": "https://localhost:8080/"
        },
        "id": "KKoK9Z8mN9XS",
        "outputId": "a1faf39b-1423-461b-d48e-6362959d1a42"
      },
      "source": [
        "#60. First, def a function, start_process, that takes one argument p. Then, if the start_process function receives an p equal to \"Yes\",\n",
        "# it should return \"Start Process\" Alternatively, elif p is equal to \"No\", then the function should return \"Start Process Aborted\".\n",
        "#  Finally, if start_process gets anything other than those inputs, the function should return \"Sorry for the input\".\n",
        "\n",
        "def start_process(p):\n",
        "  if p==\"Yes\":\n",
        "    return \"Start Process\"\n",
        "  elif p==\"No\":\n",
        "    return \"Start Process Aborted\"\n",
        "  else:\n",
        "    return \"Sorry for the input\"\n",
        "\n",
        "command= input(\"Enter a command: \")\n",
        "print(start_process(command))"
      ],
      "execution_count": 15,
      "outputs": [
        {
          "output_type": "stream",
          "name": "stdout",
          "text": [
            "Enter a command: No\n",
            "Start Process Aborted\n"
          ]
        }
      ]
    },
    {
      "cell_type": "code",
      "metadata": {
        "colab": {
          "base_uri": "https://localhost:8080/"
        },
        "id": "VsSMVwhnOKlH",
        "outputId": "5984ff41-f31b-483a-9c94-aa7770c4272b"
      },
      "source": [
        "#61. First, def a function called calculate_distance, with one argument (choose any argument name you like).\n",
        "#   If the type of the argument is either int or float, the function should return the absolute value of the function input.\n",
        "#   Otherwise, the function should return \"No value\". Check if it works calling the function with  9.6 and \"what?\".\n",
        "\n",
        "def calculate_distance(argument):\n",
        "  if type(argument) == int or type(argument) == float:\n",
        "      return abs(argument)\n",
        "  else:\n",
        "      print(\"No value\")\n",
        "\n",
        "print(\"the absolute value : \" ,calculate_distance(33.20))\n",
        "\n",
        "calculate_distance(\"what?\")"
      ],
      "execution_count": 16,
      "outputs": [
        {
          "output_type": "stream",
          "name": "stdout",
          "text": [
            "the absolute value :  33.2\n",
            "No value\n"
          ]
        }
      ]
    },
    {
      "cell_type": "code",
      "metadata": {
        "colab": {
          "base_uri": "https://localhost:8080/"
        },
        "id": "zWqGLruNOOhg",
        "outputId": "6987b6cd-be13-45d1-9cbf-1d4a0f25a053"
      },
      "source": [
        "#62.Python program to display the sum of input (n) numbers using a list.\n",
        "\n",
        "list1 = [11, 5, 17, 18, 23]\n",
        "total=0\n",
        "for i in range(0, len(list1)):\n",
        "    total = total + list1[i]\n",
        " \n",
        "print(\"Sum of all elements in given list: \", total)"
      ],
      "execution_count": 17,
      "outputs": [
        {
          "output_type": "stream",
          "name": "stdout",
          "text": [
            "Sum of all elements in given list:  74\n"
          ]
        }
      ]
    },
    {
      "cell_type": "code",
      "metadata": {
        "colab": {
          "base_uri": "https://localhost:8080/"
        },
        "id": "-IdUEVcNOWt_",
        "outputId": "cf31872e-6420-4cf0-e6f5-f54536f66c16"
      },
      "source": [
        "#63)Python program to insert a number to given position in a list.\n",
        "print(\"Enter 10 Elements of List: \")\n",
        "nums = []\n",
        "for i in range(10):\n",
        "    nums.insert(i, input())\n",
        "print(\"Enter an Element to Insert at End: \")\n",
        "elem = input()\n",
        "nums.append(elem)\n",
        "print(\"\\nThe New List is: \")\n",
        "print(nums)"
      ],
      "execution_count": 18,
      "outputs": [
        {
          "output_type": "stream",
          "name": "stdout",
          "text": [
            "Enter 10 Elements of List: \n",
            "4\n",
            "7\n",
            "46\n",
            "12\n",
            "55\n",
            "23\n",
            "41\n",
            "12\n",
            "22\n",
            "10\n",
            "Enter an Element to Insert at End: \n",
            "32\n",
            "\n",
            "The New List is: \n",
            "['4', '7', '46', '12', '55', '23', '41', '12', '22', '10', '32']\n"
          ]
        }
      ]
    },
    {
      "cell_type": "code",
      "metadata": {
        "colab": {
          "base_uri": "https://localhost:8080/"
        },
        "id": "aNKZJTAfOrTd",
        "outputId": "cd481529-ae22-454d-ea36-843c37250d4f"
      },
      "source": [
        "#64. Write the program that prompts the user for a list of numbers and prints out the maximum and minimum of the \n",
        "# numbers at the end when the user enters “done”. Write the program to store the numbers the user enters in a list and \n",
        "# use the max() and min() functions to compute the maximum and minimum numbers after the loop completes.\n",
        "\n",
        "my_list = []                     \n",
        "while True:\n",
        "    number = 0.0\n",
        "    input_number = input('Enter a number: ')\n",
        "    if input_number == 'done':\n",
        "        break\n",
        "\n",
        "    try:\n",
        "        number = float(input_number)\n",
        "    except ValueError:\n",
        "        print('Invalid input')\n",
        "        quit()\n",
        "\n",
        "    my_list.append(number)\n",
        "\n",
        "if my_list:\n",
        "    print('Maximum: ', max(my_list) or None)\n",
        "    print('Minimum: ', min(my_list) or None)"
      ],
      "execution_count": 19,
      "outputs": [
        {
          "output_type": "stream",
          "name": "stdout",
          "text": [
            "Enter a number: 6\n",
            "Enter a number: 4\n",
            "Enter a number: 22\n",
            "Enter a number: 1\n",
            "Enter a number: done\n",
            "Maximum:  22.0\n",
            "Minimum:  1.0\n"
          ]
        }
      ]
    },
    {
      "cell_type": "code",
      "metadata": {
        "colab": {
          "base_uri": "https://localhost:8080/"
        },
        "id": "q8p1WT7zO3xP",
        "outputId": "6c06ad07-fcec-47a5-ca2f-b2e7b7e63398"
      },
      "source": [
        "#65.Write another program that prompts for a list of numbers as above and at the end prints out both the maximum and minimum of the numbers.\n",
        "my_list = []                     \n",
        "while True:\n",
        "    number = 0.0\n",
        "    input_number = input('Enter a number: ')\n",
        "    if input_number == 'done':\n",
        "        break\n",
        "\n",
        "    try:\n",
        "        number = float(input_number)\n",
        "    except ValueError:\n",
        "        print('Invalid input')\n",
        "        quit()\n",
        "\n",
        "    my_list.append(number)\n",
        "\n",
        "if my_list:\n",
        "    print('Maximum: ', max(my_list) or None)\n",
        "    print('Minimum: ', min(my_list) or None)"
      ],
      "execution_count": 20,
      "outputs": [
        {
          "output_type": "stream",
          "name": "stdout",
          "text": [
            "Enter a number: 23\n",
            "Enter a number: 25\n",
            "Enter a number: 1\n",
            "Enter a number: 10\n",
            "Enter a number: done\n",
            "Maximum:  25.0\n",
            "Minimum:  1.0\n"
          ]
        }
      ]
    },
    {
      "cell_type": "code",
      "metadata": {
        "colab": {
          "base_uri": "https://localhost:8080/"
        },
        "id": "X4i5U10aPDXc",
        "outputId": "53bc5c24-2efc-4d47-f22c-4f4d3795fbd0"
      },
      "source": [
        "#66.Python program to delete an element from a list by index which is given by the user.\n",
        "\n",
        "print(\"Enter 10 Elements: \")\n",
        "arr = []\n",
        "for i in range(10):\n",
        "    arr.append(input())\n",
        "\n",
        "print(\"\\nEnter the Value to Delete: \")\n",
        "val = input()\n",
        "\n",
        "arr.remove(val)\n",
        "print(arr)"
      ],
      "execution_count": 21,
      "outputs": [
        {
          "output_type": "stream",
          "name": "stdout",
          "text": [
            "Enter 10 Elements: \n",
            "1\n",
            "3\n",
            "6\n",
            "10\n",
            "12\n",
            "56\n",
            "23\n",
            "24\n",
            "45\n",
            "12\n",
            "\n",
            "Enter the Value to Delete: \n",
            "6\n",
            "['1', '3', '10', '12', '56', '23', '24', '45', '12']\n"
          ]
        }
      ]
    },
    {
      "cell_type": "code",
      "metadata": {
        "colab": {
          "base_uri": "https://localhost:8080/"
        },
        "id": "c0thQmkDPN4q",
        "outputId": "22687699-47eb-438c-a662-75fbfe316f3c"
      },
      "source": [
        "#67)Write a Python program to print a specified list after removing the 1st, 2nd and 5th elements.\n",
        "color = ['Red', 'Green', 'White', 'Black', 'Pink', 'Yellow']\n",
        "color = [x for (i,x) in enumerate(color) if i not in (1,2,5)]\n",
        "print(color)"
      ],
      "execution_count": 22,
      "outputs": [
        {
          "output_type": "stream",
          "name": "stdout",
          "text": [
            "['Red', 'Black', 'Pink']\n"
          ]
        }
      ]
    },
    {
      "cell_type": "code",
      "metadata": {
        "colab": {
          "base_uri": "https://localhost:8080/"
        },
        "id": "2lFvY7mCPRqu",
        "outputId": "08712065-4d2f-49a5-cf0e-096861f28efa"
      },
      "source": [
        "#68)Write a Python program to generate all sublists of a list.\n",
        "from itertools import combinations\n",
        "def sub_lists(my_list):\n",
        "\tsubs = []\n",
        "\tfor i in range(0, len(my_list)+1):\n",
        "\t  temp = [list(x) for x in combinations(my_list, i)]\n",
        "\t  if len(temp)>0:\n",
        "\t    subs.extend(temp)\n",
        "\treturn subs\n",
        "\n",
        "\n",
        "l1 = [10, 20, 30, 40]\n",
        "l2 = ['X', 'Y', 'Z']\n",
        "print(\"Original list:\")\n",
        "print(l1)\n",
        "print(\"S\")\n",
        "print(sub_lists(l1))\n",
        "print(\"Sublists of the said list:\")\n",
        "print(sub_lists(l1))\n",
        "print(\"\\nOriginal list:\")\n",
        "print(l2)\n",
        "print(\"Sublists of the said list:\")\n",
        "print(sub_lists(l2))"
      ],
      "execution_count": 23,
      "outputs": [
        {
          "output_type": "stream",
          "name": "stdout",
          "text": [
            "Original list:\n",
            "[10, 20, 30, 40]\n",
            "S\n",
            "[[], [10], [20], [30], [40], [10, 20], [10, 30], [10, 40], [20, 30], [20, 40], [30, 40], [10, 20, 30], [10, 20, 40], [10, 30, 40], [20, 30, 40], [10, 20, 30, 40]]\n",
            "Sublists of the said list:\n",
            "[[], [10], [20], [30], [40], [10, 20], [10, 30], [10, 40], [20, 30], [20, 40], [30, 40], [10, 20, 30], [10, 20, 40], [10, 30, 40], [20, 30, 40], [10, 20, 30, 40]]\n",
            "\n",
            "Original list:\n",
            "['X', 'Y', 'Z']\n",
            "Sublists of the said list:\n",
            "[[], ['X'], ['Y'], ['Z'], ['X', 'Y'], ['X', 'Z'], ['Y', 'Z'], ['X', 'Y', 'Z']]\n"
          ]
        }
      ]
    },
    {
      "cell_type": "code",
      "metadata": {
        "colab": {
          "base_uri": "https://localhost:8080/"
        },
        "id": "S5mdqfcjPVCp",
        "outputId": "89c592a7-e6ef-4731-b4d0-10dada3bf072"
      },
      "source": [
        "#69)Write a Python program to find all the values in a list are greater than a given number.\n",
        "list1 = [220, 330, 500]\n",
        "list2 = [12, 17, 21]\n",
        "print(all(x >= 200 for x in list1))\n",
        "print(all(x >= 15 for x in list2))"
      ],
      "execution_count": 24,
      "outputs": [
        {
          "output_type": "stream",
          "name": "stdout",
          "text": [
            "True\n",
            "False\n"
          ]
        }
      ]
    },
    {
      "cell_type": "code",
      "metadata": {
        "colab": {
          "base_uri": "https://localhost:8080/"
        },
        "id": "XjHEG0dLPZeO",
        "outputId": "6e67ce83-7b04-483a-bbbf-9eff5835ad92"
      },
      "source": [
        "#70)Python program to find the even numbers in a List.\n",
        "list1 = [10, 21, 4, 45, 66, 93]\n",
        "for num in list1:\n",
        "    if num % 2 == 0:\n",
        "        print(num, end=\" \")"
      ],
      "execution_count": 25,
      "outputs": [
        {
          "output_type": "stream",
          "name": "stdout",
          "text": [
            "10 4 66 "
          ]
        }
      ]
    }
  ]
}