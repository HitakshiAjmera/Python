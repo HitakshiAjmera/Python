{
  "nbformat": 4,
  "nbformat_minor": 0,
  "metadata": {
    "colab": {
      "name": "Loop (18 to 33).ipynb",
      "provenance": []
    },
    "kernelspec": {
      "name": "python3",
      "display_name": "Python 3"
    },
    "language_info": {
      "name": "python"
    }
  },
  "cells": [
    {
      "cell_type": "markdown",
      "metadata": {
        "id": "2uf5Dd5ij8Ua"
      },
      "source": [
        "18. Program to find digital sum of a given Number\n",
        "   ex: n=123  Digital sum----->1+2+3=6\n"
      ]
    },
    {
      "cell_type": "code",
      "metadata": {
        "colab": {
          "base_uri": "https://localhost:8080/"
        },
        "id": "JzEW80M1jmH1",
        "outputId": "ec771c95-edca-4a40-a493-96f0fd996e5f"
      },
      "source": [
        "n = int(input())\n",
        "sum = 0\n",
        "while n>0 :\n",
        "  sum = sum + n%10\n",
        "  n= n//10\n",
        "print(\"Digital sum of given number is \",sum) "
      ],
      "execution_count": null,
      "outputs": [
        {
          "output_type": "stream",
          "name": "stdout",
          "text": [
            "123\n",
            "Sum of given number is  6\n"
          ]
        }
      ]
    },
    {
      "cell_type": "markdown",
      "metadata": {
        "id": "bOKG_yw5k7VH"
      },
      "source": [
        "19. Program to find the digital product of a given number\n",
        "   ex: n=43   Digital product ----->4*3=12\n"
      ]
    },
    {
      "cell_type": "code",
      "metadata": {
        "colab": {
          "base_uri": "https://localhost:8080/"
        },
        "id": "czNzRd5hk_lv",
        "outputId": "3620f0b1-49d5-4bd5-b2ca-2d760b4857b1"
      },
      "source": [
        "n = int(input())\n",
        "p = 1\n",
        "while n>0 :\n",
        "  p = p * (n%10)\n",
        "  n= n//10\n",
        "print(\"Digital product of given number is \",p)"
      ],
      "execution_count": null,
      "outputs": [
        {
          "output_type": "stream",
          "name": "stdout",
          "text": [
            "43\n",
            "Digital product of given number is  12\n"
          ]
        }
      ]
    },
    {
      "cell_type": "markdown",
      "metadata": {
        "id": "VvnZceU9lX8U"
      },
      "source": [
        "20. Find the sum of the series 3 +33 + 333 + 3333 + .. n terms"
      ]
    },
    {
      "cell_type": "code",
      "metadata": {
        "id": "yZJFErivle0a",
        "colab": {
          "base_uri": "https://localhost:8080/"
        },
        "outputId": "3f99ba20-a1d8-44af-e757-61326bc07393"
      },
      "source": [
        "n=int(input(\"Enter the range of number:\"))\n",
        "sum=0\n",
        "p=3\n",
        "for i in range(1,n+1):\n",
        "    sum += p\n",
        "    p=(p*10)+3\n",
        "print(\"The sum of the series = \",sum)"
      ],
      "execution_count": 3,
      "outputs": [
        {
          "output_type": "stream",
          "name": "stdout",
          "text": [
            "Enter the range of number:12\n",
            "The sum of the series =  370370370366\n"
          ]
        }
      ]
    },
    {
      "cell_type": "markdown",
      "metadata": {
        "id": "R0XbIRMBlgY7"
      },
      "source": [
        "21. Print the following pattern"
      ]
    },
    {
      "cell_type": "code",
      "metadata": {
        "colab": {
          "base_uri": "https://localhost:8080/"
        },
        "id": "WjziAZSjlkYN",
        "outputId": "0cf233df-baca-4d07-f0ef-2fdbc6a7e9a0"
      },
      "source": [
        "for i in range(1,6):\n",
        "  for j in range (i):\n",
        "    print(\"* \",end=\"\")\n",
        "  print()\n",
        "rows = 4\n",
        "for i in range(rows, 0, -1):\n",
        "    for j in range(0, i):\n",
        "        print(\"* \", end='')\n",
        "    print()"
      ],
      "execution_count": null,
      "outputs": [
        {
          "output_type": "stream",
          "name": "stdout",
          "text": [
            "* \n",
            "* * \n",
            "* * * \n",
            "* * * * \n",
            "* * * * * \n",
            "* * * * \n",
            "* * * \n",
            "* * \n",
            "* \n"
          ]
        }
      ]
    },
    {
      "cell_type": "markdown",
      "metadata": {
        "id": "lMCEByFfogSP"
      },
      "source": [
        "22. Program to reverse a given Number.    ex: n=123   Reversed no is 321"
      ]
    },
    {
      "cell_type": "code",
      "metadata": {
        "colab": {
          "base_uri": "https://localhost:8080/"
        },
        "id": "Ls27OoB6om1e",
        "outputId": "72e28820-a0c6-41a4-d92f-2bdc7fdb67ed"
      },
      "source": [
        "n = int(input())\n",
        "rev = 0\n",
        "while n>0 :\n",
        "  rev = rev*10 + n%10\n",
        "  n= n//10\n",
        "print(\"Reversed number is \",rev)"
      ],
      "execution_count": null,
      "outputs": [
        {
          "output_type": "stream",
          "name": "stdout",
          "text": [
            "123\n",
            "Reversed number is  321\n"
          ]
        }
      ]
    },
    {
      "cell_type": "markdown",
      "metadata": {
        "id": "B_dJJ0gCpQwO"
      },
      "source": [
        "23.Program to check whether a given number is a palindrome or not"
      ]
    },
    {
      "cell_type": "code",
      "metadata": {
        "colab": {
          "base_uri": "https://localhost:8080/"
        },
        "id": "0lso4vXHpWU3",
        "outputId": "e647bdbd-d0f8-493e-f197-b17f0a62789b"
      },
      "source": [
        "n = int(input())\n",
        "c = n\n",
        "rev = 0\n",
        "while n>0 :\n",
        "  rev = rev*10 + n%10\n",
        "  n= n//10\n",
        "if c==rev:\n",
        "  print(c,\" number is palindrome.\")\n",
        "else:\n",
        "  print(c,\" number i not palindrome.\")"
      ],
      "execution_count": null,
      "outputs": [
        {
          "output_type": "stream",
          "name": "stdout",
          "text": [
            "121\n",
            "121  number is palindrome.\n"
          ]
        }
      ]
    },
    {
      "cell_type": "markdown",
      "metadata": {
        "id": "5b4BmWTap5uU"
      },
      "source": [
        "24. Program to check whether a given number is an Armstrong number or not."
      ]
    },
    {
      "cell_type": "code",
      "metadata": {
        "colab": {
          "base_uri": "https://localhost:8080/"
        },
        "id": "8idNCzPhsBoW",
        "outputId": "e53b147a-f8b2-460e-b13a-49ffd8ba941d"
      },
      "source": [
        "num = int(input(\"Enter any number: \"))\n",
        "temp = num\n",
        "l = len(str(num))\n",
        "sum = 0\n",
        "while temp > 0:\n",
        "   sum = sum + (temp % 10) ** l\n",
        "   temp //= 10\n",
        "if num == sum:\n",
        "   print(num,\"is an Armstrong number\")\n",
        "else:\n",
        "   print(num,\"is not an Armstrong number\")"
      ],
      "execution_count": null,
      "outputs": [
        {
          "output_type": "stream",
          "name": "stdout",
          "text": [
            "Enter any number: 164\n",
            "164 is not an Armstrong number\n"
          ]
        }
      ]
    },
    {
      "cell_type": "markdown",
      "metadata": {
        "id": "b9bw7HI9r6cj"
      },
      "source": [
        "25. Program to find factorial of a given number."
      ]
    },
    {
      "cell_type": "code",
      "metadata": {
        "colab": {
          "base_uri": "https://localhost:8080/"
        },
        "id": "Zil5HfgrsIHb",
        "outputId": "fe550016-e9c7-4251-a83d-a9eb9956134f"
      },
      "source": [
        "n = int(input(\" Enter a number \"))\n",
        "fact = 1\n",
        "for i in range(1,n+1):\n",
        "  fact = fact * i\n",
        "print(\"Factorial of \",n ,\" is \", fact)  "
      ],
      "execution_count": null,
      "outputs": [
        {
          "output_type": "stream",
          "name": "stdout",
          "text": [
            " Enter a number 5\n",
            "Factorial of  5  is  120\n"
          ]
        }
      ]
    },
    {
      "cell_type": "markdown",
      "metadata": {
        "id": "wl-YyN6Ws4rj"
      },
      "source": [
        "26. Program to find whether a given number is a strong number or not.\n",
        "  e.g. n=145\n",
        "  1!+4!+5!==145"
      ]
    },
    {
      "cell_type": "code",
      "metadata": {
        "colab": {
          "base_uri": "https://localhost:8080/"
        },
        "id": "LhwCag2cscYt",
        "outputId": "747f2744-ed34-44f6-8d52-cbdaabe35803"
      },
      "source": [
        "def factn(x):\n",
        "  fact = 1\n",
        "  for i in range(1,x+1):\n",
        "    fact = fact * i\n",
        "  return fact\n",
        "n = int(input(\" Enter a number \"))\n",
        "c = n \n",
        "sum = 0\n",
        "while n>0 :\n",
        "  sum = sum + factn(n%10)\n",
        "  n= n//10\n",
        "if sum == c:\n",
        "  print(c,\" is strong number.\")\n",
        "else:\n",
        "  print(c,\" is not a strong number.\")"
      ],
      "execution_count": null,
      "outputs": [
        {
          "output_type": "stream",
          "name": "stdout",
          "text": [
            " Enter a number 145\n",
            "145  is strong number.\n"
          ]
        }
      ]
    },
    {
      "cell_type": "markdown",
      "metadata": {
        "id": "SU9728JfuxDJ"
      },
      "source": [
        "27. Program to find whether a given number is a unique number. For example, 20, 56, 9863, 145, etc. are the unique numbers while 33, 121, 900, 1010, etc. are not unique numbers"
      ]
    },
    {
      "cell_type": "code",
      "metadata": {
        "id": "PooKBVukvCr2",
        "colab": {
          "base_uri": "https://localhost:8080/"
        },
        "outputId": "f49f4c39-bfdf-49d1-88c8-3117cd68ed9f"
      },
      "source": [
        "n = list(map(int, input(\"Enter a number: \").split()))\n",
        "arr = []\n",
        "for i in n:\n",
        "  if i not in arr:\n",
        "    arr.append(i)\n",
        "if len(n) == len(arr):\n",
        "  print(\"Number is a unique number.\")\n",
        "else:\n",
        "  print(\"Number is not a unique number.\")"
      ],
      "execution_count": 2,
      "outputs": [
        {
          "output_type": "stream",
          "name": "stdout",
          "text": [
            "Enter a number: 9863\n",
            "Number is a unique number.\n"
          ]
        }
      ]
    },
    {
      "cell_type": "markdown",
      "metadata": {
        "id": "si7UR3UMvDV5"
      },
      "source": [
        "28. Program to find whether a given number is a perfect number or not."
      ]
    },
    {
      "cell_type": "code",
      "metadata": {
        "colab": {
          "base_uri": "https://localhost:8080/"
        },
        "id": "IoE1cUeAvR51",
        "outputId": "c12de5c1-5144-4d43-93d0-0c9745f91ae8"
      },
      "source": [
        "n = int(input(\"Enter any number \"))\n",
        "sum = 0\n",
        "for i in range(1, n):\n",
        "    if(n % i == 0):\n",
        "        sum = sum + i\n",
        "if (sum == n):\n",
        "    print(n,\" is a Perfect number\")\n",
        "else:\n",
        "    print(n,\" is not a Perfect number\")"
      ],
      "execution_count": null,
      "outputs": [
        {
          "output_type": "stream",
          "name": "stdout",
          "text": [
            "Enter any number 46\n",
            "46  is not a Perfect number\n"
          ]
        }
      ]
    },
    {
      "cell_type": "markdown",
      "metadata": {
        "id": "G36rgF7hvSUU"
      },
      "source": [
        "29. Program to find whether a given number is a prime number or not."
      ]
    },
    {
      "cell_type": "code",
      "metadata": {
        "colab": {
          "base_uri": "https://localhost:8080/"
        },
        "id": "kTJ3N8_8wTDJ",
        "outputId": "1f9f6784-da09-48f2-9098-218c482ec5ae"
      },
      "source": [
        "num = int(input(\"Enter any number: \"))\n",
        "if num > 1:\n",
        "    for i in range(2, int(num/2)+1):\n",
        "        if (num % i) == 0:\n",
        "            print(num,\" is not a prime number\")\n",
        "            break\n",
        "    else:\n",
        "        print(num, \"is a prime number\")\n",
        "else:\n",
        "    print(num, \"is not a prime number\")"
      ],
      "execution_count": null,
      "outputs": [
        {
          "output_type": "stream",
          "name": "stdout",
          "text": [
            "Enter any number: 89\n",
            "89 is a prime number\n"
          ]
        }
      ]
    },
    {
      "cell_type": "markdown",
      "metadata": {
        "id": "OIjnYTYawU9K"
      },
      "source": [
        "30. Print downward Half-Pyramid Pattern with Star (asterisk)"
      ]
    },
    {
      "cell_type": "code",
      "metadata": {
        "colab": {
          "base_uri": "https://localhost:8080/"
        },
        "id": "a8ueDAE8wZNc",
        "outputId": "022e4136-21f5-454f-f1fc-0fb9715f5e38"
      },
      "source": [
        "rows = 5\n",
        "for i in range(rows, 0, -1):\n",
        "    for j in range(0, i):\n",
        "        print(\"* \", end='')\n",
        "    print()"
      ],
      "execution_count": null,
      "outputs": [
        {
          "output_type": "stream",
          "name": "stdout",
          "text": [
            "* * * * * \n",
            "* * * * \n",
            "* * * \n",
            "* * \n",
            "* \n"
          ]
        }
      ]
    },
    {
      "cell_type": "markdown",
      "metadata": {
        "id": "UWXaX6wEwrWr"
      },
      "source": [
        "31. Print  following pattern: \n",
        "1\n",
        "22\n",
        "333\n",
        "4444\n",
        "55555\n",
        "666666\n",
        "7777777\n",
        "88888888\n",
        "999999999"
      ]
    },
    {
      "cell_type": "code",
      "metadata": {
        "colab": {
          "base_uri": "https://localhost:8080/"
        },
        "id": "NzMb0jmxwvey",
        "outputId": "3a23aa2f-fc9e-4c63-9e17-c0d7c8d5f2a7"
      },
      "source": [
        "for i in range(1,10):\n",
        "  for j in range (i):\n",
        "    print(i ,end=\"\")\n",
        "  print()"
      ],
      "execution_count": null,
      "outputs": [
        {
          "output_type": "stream",
          "name": "stdout",
          "text": [
            "1\n",
            "22\n",
            "333\n",
            "4444\n",
            "55555\n",
            "666666\n",
            "7777777\n",
            "88888888\n",
            "999999999\n"
          ]
        }
      ]
    },
    {
      "cell_type": "markdown",
      "metadata": {
        "id": "MJQP8is2xCMa"
      },
      "source": [
        "32. Print  following pattern: \n",
        "1\n",
        "12\n",
        "123\n",
        "1234\n",
        "12345\n",
        "123456\n",
        "1234567\n",
        "12345678\n",
        "123456789"
      ]
    },
    {
      "cell_type": "code",
      "metadata": {
        "colab": {
          "base_uri": "https://localhost:8080/"
        },
        "id": "z2ASkl8exGb-",
        "outputId": "b6217360-1b7d-4a8f-ec37-b4f4d6b0505f"
      },
      "source": [
        "for i in range(1,10):\n",
        "  for j in range (1,i+1):\n",
        "    print(j ,end=\"\")\n",
        "  print()"
      ],
      "execution_count": null,
      "outputs": [
        {
          "output_type": "stream",
          "name": "stdout",
          "text": [
            "1\n",
            "12\n",
            "123\n",
            "1234\n",
            "12345\n",
            "123456\n",
            "1234567\n",
            "12345678\n",
            "123456789\n"
          ]
        }
      ]
    },
    {
      "cell_type": "markdown",
      "metadata": {
        "id": "jDICHJ5ixYaN"
      },
      "source": [
        "33. Print following pattern: \n",
        "A\n",
        "BB\n",
        "CCC\n",
        "DDDD\n",
        "EEEEE\n",
        "FFFFFF\n",
        "GGGGGGG\n",
        "FFFFFFFF"
      ]
    },
    {
      "cell_type": "code",
      "metadata": {
        "colab": {
          "base_uri": "https://localhost:8080/"
        },
        "id": "n4BDAELkxfT4",
        "outputId": "546dc029-5626-4ad4-cdf5-59683b4373d8"
      },
      "source": [
        "alp = 65\n",
        "for i in range(1,9):\n",
        "  for j in range (i):\n",
        "    print(\"%c\" %(alp), end=\"\")\n",
        "  alp += 1\n",
        "  print()"
      ],
      "execution_count": null,
      "outputs": [
        {
          "output_type": "stream",
          "name": "stdout",
          "text": [
            "A\n",
            "BB\n",
            "CCC\n",
            "DDDD\n",
            "EEEEE\n",
            "FFFFFF\n",
            "GGGGGGG\n",
            "HHHHHHHH\n"
          ]
        }
      ]
    }
  ]
}