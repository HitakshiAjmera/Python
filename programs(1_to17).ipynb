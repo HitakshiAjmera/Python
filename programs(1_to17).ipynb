{
  "nbformat": 4,
  "nbformat_minor": 0,
  "metadata": {
    "colab": {
      "name": "programs(1 to17).ipynb",
      "provenance": [],
      "collapsed_sections": []
    },
    "kernelspec": {
      "name": "python3",
      "display_name": "Python 3"
    }
  },
  "cells": [
    {
      "cell_type": "markdown",
      "metadata": {
        "id": "cQK-0vRhYl0B"
      },
      "source": [
        "Hitakshi Ajmera "
      ]
    },
    {
      "cell_type": "markdown",
      "metadata": {
        "id": "WRyUloE8-8bH"
      },
      "source": [
        "1.Display float number with 2 decimal places using print()"
      ]
    },
    {
      "cell_type": "code",
      "metadata": {
        "colab": {
          "base_uri": "https://localhost:8080/"
        },
        "id": "n8O6V6Gk_Awa",
        "outputId": "38178f1f-43e2-48db-fdf7-cb84ad25364d"
      },
      "source": [
        "num = 76.87663\n",
        "print(\"{:.2f}\".format(num))"
      ],
      "execution_count": null,
      "outputs": [
        {
          "output_type": "stream",
          "name": "stdout",
          "text": [
            "76.88\n"
          ]
        }
      ]
    },
    {
      "cell_type": "markdown",
      "metadata": {
        "id": "_b5ownGCANEn"
      },
      "source": [
        "2. Takes two integer numbers and  return their product."
      ]
    },
    {
      "cell_type": "code",
      "metadata": {
        "colab": {
          "base_uri": "https://localhost:8080/"
        },
        "id": "yC2uI36FAbXH",
        "outputId": "fbd84b1d-6691-40df-aba5-d2c3b19d9e43"
      },
      "source": [
        "num1 = int(input(\"num1 \"))\n",
        "num2 = int(input(\"num2 \"))\n",
        "print(\"Product of number \" , num1*num2)"
      ],
      "execution_count": null,
      "outputs": [
        {
          "output_type": "stream",
          "name": "stdout",
          "text": [
            "num1 78\n",
            "num2 9\n",
            "Product of number  702\n"
          ]
        }
      ]
    },
    {
      "cell_type": "markdown",
      "metadata": {
        "id": "sruUjOZ6Ci6K"
      },
      "source": [
        "3.Write a Python program to get the volume of a sphere with radius 10."
      ]
    },
    {
      "cell_type": "code",
      "metadata": {
        "colab": {
          "base_uri": "https://localhost:8080/"
        },
        "id": "xhFdlLtaCov_",
        "outputId": "554f8aaa-13d1-46a9-c039-023fa905eb01"
      },
      "source": [
        "Radius = 10\n",
        "sphereVolume = 4/3*3.14*Radius**3\n",
        "print(sphereVolume)"
      ],
      "execution_count": null,
      "outputs": [
        {
          "output_type": "stream",
          "name": "stdout",
          "text": [
            "4186.666666666667\n"
          ]
        }
      ]
    },
    {
      "cell_type": "markdown",
      "metadata": {
        "id": "NHGZYTgJD_69"
      },
      "source": [
        "4.Accept two numbers from the user and multiply them together."
      ]
    },
    {
      "cell_type": "code",
      "metadata": {
        "colab": {
          "base_uri": "https://localhost:8080/"
        },
        "id": "5pWNzMvXEqLB",
        "outputId": "aeb64db7-d8e9-4a93-8be9-cbfeff03ca45"
      },
      "source": [
        "A = int(input(\"Enter first number : \"))\n",
        "B = int(input(\"Enter second number : \"))\n",
        "\n",
        "print(\"Multiplication of Number \", A ,\" * \",B,\" = \", A*B)"
      ],
      "execution_count": null,
      "outputs": [
        {
          "output_type": "stream",
          "name": "stdout",
          "text": [
            "Enter first number : 12\n",
            "Enter second number : 56\n",
            "Multiplication of Number  12  *  56  =  672\n"
          ]
        }
      ]
    },
    {
      "cell_type": "markdown",
      "metadata": {
        "id": "2kZ9eNRMFdiW"
      },
      "source": [
        "5.Write a Python program that accepts an integer (a) and computes the value of a+aa+aaa."
      ]
    },
    {
      "cell_type": "code",
      "metadata": {
        "colab": {
          "base_uri": "https://localhost:8080/"
        },
        "id": "uf_ymGrXFnKy",
        "outputId": "7c1e9c2e-3346-4f3f-edb4-927dd8057199"
      },
      "source": [
        "a=input(\"Enter a number : \")\n",
        "sum=0\n",
        "for i in range(1,4):\n",
        "  sum = sum + int(str(a*i))\n",
        "  print(a*i,end=\" \")\n",
        "  if i!=3 :\n",
        "    print(\"+\",end=\" \")\n",
        "\n",
        "print(\" = \",sum)"
      ],
      "execution_count": null,
      "outputs": [
        {
          "output_type": "stream",
          "name": "stdout",
          "text": [
            "Enter a number : 9\n",
            "9 + 99 + 999  =  1107\n"
          ]
        }
      ]
    },
    {
      "cell_type": "markdown",
      "metadata": {
        "id": "6jvsaG13M3aZ"
      },
      "source": [
        "6.Write a Python program to calculate the length of a string."
      ]
    },
    {
      "cell_type": "code",
      "metadata": {
        "colab": {
          "base_uri": "https://localhost:8080/"
        },
        "id": "BqUfSTD9NgSS",
        "outputId": "82ca7de3-c9af-4639-a547-e76848d66554"
      },
      "source": [
        "s = \"Hitakshi Ajmera\"\n",
        "print(\"Length of string \", len(s))"
      ],
      "execution_count": null,
      "outputs": [
        {
          "output_type": "stream",
          "name": "stdout",
          "text": [
            "Length of string  15\n"
          ]
        }
      ]
    },
    {
      "cell_type": "markdown",
      "metadata": {
        "id": "8_RkVo5HPQlc"
      },
      "source": [
        "7. Write a Python program to parse a string to Float & Integer"
      ]
    },
    {
      "cell_type": "code",
      "metadata": {
        "colab": {
          "base_uri": "https://localhost:8080/"
        },
        "id": "pAOXNL94Pmbj",
        "outputId": "8cbdd856-e076-41cf-a7d2-75b650cfe117"
      },
      "source": [
        "string = \"22.67\"\n",
        "print(type(string))\n",
        "f = float(string)\n",
        "print(\"parse string to float\", f)\n",
        "i = int(f)\n",
        "print(\"parse to integer\", i)"
      ],
      "execution_count": null,
      "outputs": [
        {
          "output_type": "stream",
          "name": "stdout",
          "text": [
            "<class 'str'>\n",
            "parse string to float 22.67\n",
            "parse string to integer 22\n"
          ]
        }
      ]
    },
    {
      "cell_type": "markdown",
      "metadata": {
        "id": "UxPfzoSWVgRX"
      },
      "source": [
        "8.Given two integer numbers return their sum. If the sum is greater than 100, then return their product."
      ]
    },
    {
      "cell_type": "code",
      "metadata": {
        "colab": {
          "base_uri": "https://localhost:8080/"
        },
        "id": "usrwEq_GVsjM",
        "outputId": "fc101af5-268e-4040-e75d-33b99a06af6c"
      },
      "source": [
        "A = int(input(\"Enter first number \"))\n",
        "B= int(input(\"Enter second number \"))\n",
        "sum = A+B\n",
        "if sum>100:\n",
        "  print(\"Product of \",A,\" and \",B,\" is \",A*B)\n",
        "else:\n",
        "  print(\"sum of \",A,\" and \",B,sum)"
      ],
      "execution_count": null,
      "outputs": [
        {
          "output_type": "stream",
          "name": "stdout",
          "text": [
            "Enter first number 78\n",
            "Enter second number 12\n",
            "sum of  78  and  12 90\n"
          ]
        }
      ]
    },
    {
      "cell_type": "markdown",
      "metadata": {
        "id": "--H2Us2RW5Kg"
      },
      "source": [
        "9. Write a Python program to calculate the sum of three given numbers, if the values are not - equal then return four times of their sum."
      ]
    },
    {
      "cell_type": "code",
      "metadata": {
        "colab": {
          "base_uri": "https://localhost:8080/"
        },
        "id": "jHrx4ngEXCax",
        "outputId": "a42b4bbf-a615-43da-c635-56421533e86e"
      },
      "source": [
        "a=23\n",
        "b=56\n",
        "c=12\n",
        "sum = a+b+c\n",
        "if a==b and b==c and c==a:\n",
        "  print(\"sum of a,b and c is \",sum)\n",
        "else:\n",
        "  print(\"four time of sum of a,b and c is \",4*sum)"
      ],
      "execution_count": null,
      "outputs": [
        {
          "output_type": "stream",
          "name": "stdout",
          "text": [
            "four time of sum of a,b and c is  364\n"
          ]
        }
      ]
    },
    {
      "cell_type": "markdown",
      "metadata": {
        "id": "Fujan-ZeYFrf"
      },
      "source": [
        "10.A shop will give discount of 50% if the cost of purchased quantity is more than 10000. Ask user for quantity suppose, one unit will cost 100. Judge and print total cost for user."
      ]
    },
    {
      "cell_type": "code",
      "metadata": {
        "colab": {
          "base_uri": "https://localhost:8080/"
        },
        "id": "JZJT_ty8YJxn",
        "outputId": "7011c878-df6e-486a-a00d-967aac007df4"
      },
      "source": [
        "q = int(input(\"Enter purchased quantity : \"))\n",
        "cost = q*100\n",
        "if cost>10000:\n",
        "  final_cost = cost-(50/100*cost)\n",
        "  print(\"Total cost is : \",final_cost)\n",
        "else:\n",
        "  print(\"Total cost is : \",cost)"
      ],
      "execution_count": null,
      "outputs": [
        {
          "output_type": "stream",
          "name": "stdout",
          "text": [
            "Enter purchased quantity : 700\n",
            "Total cost is :  35000.0\n"
          ]
        }
      ]
    },
    {
      "cell_type": "markdown",
      "metadata": {
        "id": "joaDyoE8Z7_B"
      },
      "source": [
        "11.To check whether a number is divisible by 8 and 12 or not."
      ]
    },
    {
      "cell_type": "code",
      "metadata": {
        "colab": {
          "base_uri": "https://localhost:8080/"
        },
        "id": "I8dIUpYfaf1W",
        "outputId": "1472587c-b4a3-4b05-d788-023c597047a0"
      },
      "source": [
        "num =int(input(\"Enter a number: \"))\n",
        "if num%8==0 and num%12:\n",
        "  print(num,\" is divisible by 8 and 12\")\n",
        "else:\n",
        "  print(num,\" is not divisible by 8 and 12\")\n"
      ],
      "execution_count": null,
      "outputs": [
        {
          "output_type": "stream",
          "name": "stdout",
          "text": [
            "Enter a number: 64\n",
            "64  is divisible by 8 and 12\n"
          ]
        }
      ]
    },
    {
      "cell_type": "markdown",
      "metadata": {
        "id": "Za6gFVSVahF8"
      },
      "source": [
        "12.To check whether a given number is even or odd."
      ]
    },
    {
      "cell_type": "code",
      "metadata": {
        "colab": {
          "base_uri": "https://localhost:8080/"
        },
        "id": "DIC8JFKmbQsQ",
        "outputId": "50e5c60d-9fc0-4c3d-f88e-09a07434319b"
      },
      "source": [
        "num =int(input(\"Enter a number: \"))\n",
        "if num%2==0:\n",
        "  print(num,\" is even number\")\n",
        "else:\n",
        "  print(num,\" is odd number\")"
      ],
      "execution_count": null,
      "outputs": [
        {
          "output_type": "stream",
          "name": "stdout",
          "text": [
            "Enter a number: 23\n",
            "23  is odd number\n"
          ]
        }
      ]
    },
    {
      "cell_type": "markdown",
      "metadata": {
        "id": "RlH8vNwEbhXX"
      },
      "source": [
        "13. Write a program to input marks of five subjects Physics, Chemistry, Biology, Mathematics and Computer. Calculate percentage and grade according to following:\n",
        "Percentage >= 90% : Grade A\n",
        "Percentage >= 80% : Grade B\n",
        "Percentage >= 70% : Grade C\n",
        "Percentage >= 60% : Grade D\n",
        "Percentage >= 40% : Grade E\n",
        "Percentage < 40% :  Grade F"
      ]
    },
    {
      "cell_type": "code",
      "metadata": {
        "colab": {
          "base_uri": "https://localhost:8080/"
        },
        "id": "4VNUNM_ibpah",
        "outputId": "2738d12c-9ef6-4832-f150-7c8bc0fa9080"
      },
      "source": [
        "PM = int(input(\"Enter marks score in Physics : \"))\n",
        "CM = int(input(\"Enter marks score in Chemistry : \"))\n",
        "BM = int(input(\"Enter marks score in Biology : \"))\n",
        "MM = int(input(\"Enter marks score in Mathematics : \"))\n",
        "CP = int(input(\"Enter marks score in Computer : \"))\n",
        "Percentage  = (PM+CM+BM+MM+CP)*100/500\n",
        "if Percentage >= 90:\n",
        "  print(\"Grade : A\")\n",
        "elif Percentage >= 80 and Percentage < 90 :\n",
        "  print(\"Grade : B\")\n",
        "elif Percentage >= 70 and Percentage < 80:\n",
        "  print(\"Grade : C\")\n",
        "elif Percentage >= 60 and Percentage < 70:\n",
        "  print(\"Grade : D\")\n",
        "elif Percentage >= 40 and Percentage < 60:\n",
        "  print(\"Grade : E\")\n",
        "else: \n",
        "  print(\"Grade : F\")\n"
      ],
      "execution_count": null,
      "outputs": [
        {
          "output_type": "stream",
          "name": "stdout",
          "text": [
            "Enter marks score in Physics : 80\n",
            "Enter marks score in Chemistry : 85\n",
            "Enter marks score in Biology : 88\n",
            "Enter marks score in Mathematics : 90\n",
            "Enter marks score in Computer : 91\n",
            "Grade : B\n"
          ]
        }
      ]
    },
    {
      "cell_type": "markdown",
      "metadata": {
        "id": "KN3Xtz7cbmgx"
      },
      "source": [
        "14.Take input of age of 3 people by user and determine oldest and youngest among them."
      ]
    },
    {
      "cell_type": "code",
      "metadata": {
        "colab": {
          "base_uri": "https://localhost:8080/"
        },
        "id": "QWq7NXZnbvUQ",
        "outputId": "10256292-c2d9-42c6-e923-13a5883cd98f"
      },
      "source": [
        "P1 = int(input(\"Enter age: \"))\n",
        "P2 = int(input(\"Enter age: \"))\n",
        "P3 = int(input(\"Enter age: \"))\n",
        "\n",
        "if (P1>P2) and (P1>P3):\n",
        "   print(\"Person 1 is oldest\")\n",
        "   if  P2<P3:\n",
        "      print(\"Person 2 is youngest\")\n",
        "   else:\n",
        "      print(\"Person 3 is youngest\")\n",
        "if (P2>P1) and (P2>P3):\n",
        "   print(\"Person 2 is oldest\")\n",
        "   if  P1<P3:\n",
        "      print(\"Person 1 is youngest\")\n",
        "   else:\n",
        "      print(\"Person 3 is youngest\")\n",
        "if (P3>P1) and (P3>P2):\n",
        "  print(\"Person 3 is oldest\")\n",
        "  if  P1<P2:\n",
        "      print(\"Person 1 is youngest\")\n",
        "  else:\n",
        "      print(\"Person 2 is youngest\")\n",
        "  \n"
      ],
      "execution_count": null,
      "outputs": [
        {
          "output_type": "stream",
          "name": "stdout",
          "text": [
            "Enter age: 12\n",
            "Enter age: 20\n",
            "Enter age: 15\n",
            "Person 2 is oldest\n",
            "Person 1 is youngest\n"
          ]
        }
      ]
    },
    {
      "cell_type": "markdown",
      "metadata": {
        "id": "3DlWPjbibwTK"
      },
      "source": [
        "15.Write a program to input electricity unit charges and calculate total electricity bill according to the given condition:\n",
        "For first 50 units Rs. 0.50/unit\n",
        "For next 100 units Rs. 0.75/unit\n",
        "For next 100 units Rs. 1.20/unit\n",
        "For unit above 250 Rs. 1.50/unit\n",
        "An additional surcharge of 20% is added to the bill"
      ]
    },
    {
      "cell_type": "code",
      "metadata": {
        "id": "B5SEe4Wib0MV",
        "colab": {
          "base_uri": "https://localhost:8080/"
        },
        "outputId": "60cc5cc3-ae78-4fec-ad34-09b68d54658e"
      },
      "source": [
        "unit = int(input(\"Enter electricity unit charges \"))\n",
        "if unit<=50:\n",
        "  total = unit*0.5\n",
        "elif unit<50 and unit<=150:\n",
        "  total = 50*0.5 + (unit-50)*0.75\n",
        "elif unit<150 and unit<=250:\n",
        "  total = 50*0.5+100*0.75+(unit-150)*1.2\n",
        "else:\n",
        "  total = 50*0.5+100*0.75+100*1.2+(unit-250)*1.5\n",
        "final = total + (total*0.2)\n",
        "print(\"Total electricity bill is \",final)"
      ],
      "execution_count": 1,
      "outputs": [
        {
          "output_type": "stream",
          "name": "stdout",
          "text": [
            "Enter electricity unit charges 45\n",
            "Total electricity bill is  27.0\n"
          ]
        }
      ]
    },
    {
      "cell_type": "markdown",
      "metadata": {
        "id": "u5cfxWFyZKjr"
      },
      "source": [
        "16. A student will not be allowed to sit in exam if his/her attendence is less than 80%.\n",
        "Take following input from user\n",
        "Total Number of classes held\n",
        "Total Number of classes attended. And print percentage of class attended. Is student is allowed to sit in exam or not."
      ]
    },
    {
      "cell_type": "code",
      "metadata": {
        "colab": {
          "base_uri": "https://localhost:8080/"
        },
        "id": "xRx7wxTPZOuv",
        "outputId": "c2ee513d-5c35-4ab1-e5b0-a19c7ab3d0d8"
      },
      "source": [
        "Tch = int(input(\"Total Number of classes held \"))\n",
        "TCA = int(input(\"Total Number of classes attended \"))\n",
        "per = TCA*100/Tch\n",
        "print(\"Percentage of class attended \",per)\n",
        "if per<80:\n",
        "  print(\"Student not allowed to sit in exam.\")\n",
        "else:\n",
        "  print(\"Student allowed to sit in exam.\")"
      ],
      "execution_count": 2,
      "outputs": [
        {
          "output_type": "stream",
          "name": "stdout",
          "text": [
            "Total Number of classes held 120\n",
            "Total Number of classes attended 100\n",
            "Percentage of class attended  83.33333333333333\n",
            "Student allowed to sit in exam.\n"
          ]
        }
      ]
    },
    {
      "cell_type": "markdown",
      "metadata": {
        "id": "g-zJLfRRZUoe"
      },
      "source": [
        "17. Calculate income tax for the given income by adhering to the below rules\n",
        "Taxable Income        Rate (in %)\n",
        "First Rs.10,0000         0\n",
        "Next Rs. 10,0000       10\n",
        "The remaining           20"
      ]
    },
    {
      "cell_type": "code",
      "metadata": {
        "colab": {
          "base_uri": "https://localhost:8080/"
        },
        "id": "hgn_J37Ha8Ux",
        "outputId": "560409c9-57eb-4bb6-b337-8ccd31731d73"
      },
      "source": [
        "salary = int(input(\"Enter your salary \"))\n",
        "if salary <= 100000:\n",
        "  print(\"Income tax  = 0\")\n",
        "elif salary >100000 and salary <= 200000 :\n",
        "  tax = (salary-100000)*0.1\n",
        "  print(\"Income tax = \",tax)\n",
        "else:\n",
        "  tax = (salary - 200000)*0.2 + 100000*0.1\n",
        "  print(\"Income tax = \",tax)"
      ],
      "execution_count": 3,
      "outputs": [
        {
          "output_type": "stream",
          "name": "stdout",
          "text": [
            "Enter your salary 530000\n",
            "Income tax =  76000.0\n"
          ]
        }
      ]
    }
  ]
}